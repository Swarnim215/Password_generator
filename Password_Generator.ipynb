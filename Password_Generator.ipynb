{
 "cells": [
  {
   "cell_type": "code",
   "execution_count": null,
   "id": "c45e2bc0-e5f6-42ae-8740-2cd8b0499eb2",
   "metadata": {},
   "outputs": [],
   "source": []
  },
  {
   "cell_type": "code",
   "execution_count": 13,
   "id": "0530917f-1cd2-44a5-8c29-14bb58faaf5b",
   "metadata": {},
   "outputs": [
    {
     "name": "stdin",
     "output_type": "stream",
     "text": [
      "Enter the minimum length of password:  17\n",
      "Do you want to have numbers (y/n)?  y\n",
      "Do you want to have speical characters (y/n)?  n\n"
     ]
    },
    {
     "name": "stdout",
     "output_type": "stream",
     "text": [
      "Wus9iwlJiIHBVEcjz\n"
     ]
    }
   ],
   "source": [
    "import random \n",
    "import string #improt upper and lower cases\n",
    "\n",
    "def password_generator(min_length, numbers = True, special_char = True):\n",
    "    letters = string.ascii_letters #Contains all uppercase and lowercase ASCII letters.\n",
    "    digits = string.digits #Contains the digits '0' through '9'\n",
    "    special = string.punctuation #Contains common punctuation characters.\n",
    "\n",
    "    l = letters # l = characters\n",
    "    if numbers:\n",
    "        l += digits\n",
    "    if special_char: \n",
    "        l += special\n",
    "\n",
    "    pwd = \"\"\n",
    "    meets_criteria = False\n",
    "    has_numbers = False\n",
    "    has_special_char = False\n",
    "\n",
    "    while not meets_criteria or len(pwd) < min_length:\n",
    "        new_char = random.choice(l) #Returns a randomly selected element from a non-empty sequence \n",
    "        pwd += new_char\n",
    "\n",
    "        if new_char in digits:\n",
    "            has_numbers = True\n",
    "        elif new_char in special:\n",
    "            has_special_char = True\n",
    "\n",
    "        meets_criteria = True\n",
    "        if numbers:\n",
    "            meets_criteria = has_numbers\n",
    "        if special_char:\n",
    "            meets_criteria = meets_criteria and has_special_char #creating conditions \n",
    "                \n",
    "    return pwd    \n",
    "        \n",
    "min_length = int(input(\"Enter the minimum length of password: \"))\n",
    "has_numbers = input(\"Do you want to have numbers (y/n)? \").lower() == 'y'\n",
    "has_special_char = input(\"Do you want to have speical characters (y/n)? \").lower() == 'y'\n",
    "pwd = password_generator(min_length, has_numbers, has_special_char)\n",
    "print(pwd)"
   ]
  },
  {
   "cell_type": "code",
   "execution_count": null,
   "id": "2309e0b5-ed57-47d9-b7cf-11f40bad408b",
   "metadata": {},
   "outputs": [],
   "source": []
  },
  {
   "cell_type": "code",
   "execution_count": null,
   "id": "9b3495b5-b460-4ba4-8c95-e85923e30dc1",
   "metadata": {},
   "outputs": [],
   "source": []
  }
 ],
 "metadata": {
  "kernelspec": {
   "display_name": "Python [conda env:base] *",
   "language": "python",
   "name": "conda-base-py"
  },
  "language_info": {
   "codemirror_mode": {
    "name": "ipython",
    "version": 3
   },
   "file_extension": ".py",
   "mimetype": "text/x-python",
   "name": "python",
   "nbconvert_exporter": "python",
   "pygments_lexer": "ipython3",
   "version": "3.12.7"
  }
 },
 "nbformat": 4,
 "nbformat_minor": 5
}
